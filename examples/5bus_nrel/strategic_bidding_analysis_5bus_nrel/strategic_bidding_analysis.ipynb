{
 "cells": [
  {
   "cell_type": "markdown",
   "metadata": {},
   "source": [
    "# Strategic Bidding Analysis (Case: 5bus_nrel)"
   ]
  },
  {
   "cell_type": "markdown",
   "metadata": {},
   "source": [
    "In this analysis, we want to study an effective structure for PQ-Curves that helps us build optimal bidding strategies in electricity markets."
   ]
  },
  {
   "cell_type": "markdown",
   "metadata": {},
   "source": [
    "## Dependencies and Data Preparation"
   ]
  },
  {
   "cell_type": "markdown",
   "metadata": {},
   "source": [
    "#### Packages and Diretory"
   ]
  },
  {
   "cell_type": "code",
   "execution_count": 1,
   "metadata": {},
   "outputs": [],
   "source": [
    "#make sure it is in \"GridAnalysis.jl\" cd(\"C:/Users/55329/Desktop/Projeto/GridAnalysis.jl\")"
   ]
  },
  {
   "cell_type": "code",
   "execution_count": 4,
   "metadata": {},
   "outputs": [
    {
     "data": {
      "text/plain": [
       "\"C:\\\\Users\\\\55329\\\\Desktop\\\\Projeto\\\\GridAnalysis.jl\""
      ]
     },
     "execution_count": 4,
     "metadata": {},
     "output_type": "execute_result"
    }
   ],
   "source": [
    "pwd()"
   ]
  },
  {
   "cell_type": "code",
   "execution_count": 5,
   "metadata": {},
   "outputs": [],
   "source": [
    "using Pkg\n",
    "Pkg.activate(\"./examples/5bus_nrel/price_impact_analysis_5bus_nrel\")"
   ]
  },
  {
   "cell_type": "code",
   "execution_count": 6,
   "metadata": {},
   "outputs": [],
   "source": [
    "Pkg.instantiate()"
   ]
  },
  {
   "cell_type": "code",
   "execution_count": 7,
   "metadata": {},
   "outputs": [],
   "source": [
    "using Dates\n",
    "using DataFrames\n",
    "using GridAnalysis\n",
    "using Gurobi\n",
    "using Logging \n",
    "using PowerSystems\n",
    "using PowerSimulations\n",
    "using Test\n",
    "using Measures\n",
    "using Plots"
   ]
  },
  {
   "cell_type": "code",
   "execution_count": 8,
   "metadata": {},
   "outputs": [
    {
     "data": {
      "text/plain": [
       "LogLevel(1001)"
      ]
     },
     "execution_count": 8,
     "metadata": {},
     "output_type": "execute_result"
    }
   ],
   "source": [
    "Logging.disable_logging(Logging.Info) #script to disable info messages \n",
    "Logging.disable_logging(Logging.Warn) #script to disable warning messages"
   ]
  },
  {
   "cell_type": "markdown",
   "metadata": {},
   "source": [
    "#### Uploading Utils\n",
    "\n",
    "Might not work if running lines manually \n",
    "(solution: edit to be the path for this examples directory for example: 'example_dir = \"./examples/5bus_nrel/\"')"
   ]
  },
  {
   "cell_type": "code",
   "execution_count": 9,
   "metadata": {},
   "outputs": [
    {
     "data": {
      "text/plain": [
       "load_set_of_simulations"
      ]
     },
     "execution_count": 9,
     "metadata": {},
     "output_type": "execute_result"
    }
   ],
   "source": [
    "example_dir = \"./examples/5bus_nrel/\"\n",
    "data_dir = joinpath(example_dir, \"data\")\n",
    "include(joinpath(example_dir, \"utils.jl\"))"
   ]
  },
  {
   "cell_type": "markdown",
   "metadata": {},
   "source": [
    "#### Data Prep and Build Market Simulator\n",
    "define solvers for Unit Commitment (UC), Real Time (RT) and Economic Dispatch (ED)"
   ]
  },
  {
   "cell_type": "code",
   "execution_count": 10,
   "metadata": {},
   "outputs": [
    {
     "data": {
      "text/plain": [
       "MathOptInterface.OptimizerWithAttributes(Gurobi.Optimizer, Pair{MathOptInterface.AbstractOptimizerAttribute, Any}[])"
      ]
     },
     "execution_count": 10,
     "metadata": {},
     "output_type": "execute_result"
    }
   ],
   "source": [
    "solver_uc = optimizer_with_attributes(Gurobi.Optimizer)\n",
    "solver_rt = optimizer_with_attributes(Gurobi.Optimizer)\n",
    "solver_ed = optimizer_with_attributes(Gurobi.Optimizer)"
   ]
  },
  {
   "cell_type": "markdown",
   "metadata": {},
   "source": [
    "## Define analysis to be done"
   ]
  },
  {
   "cell_type": "code",
   "execution_count": 11,
   "metadata": {},
   "outputs": [],
   "source": [
    "Network = [DCPPowerModel, NFAPowerModel, DCPPowerModel];\n",
    "Ramp = [true, false];\n",
    "Minimal_generation = [true, false];\n",
    "Reserve = [true,false];\n",
    "Offer_Bus = [\"bus1\", \"bus2\", \"bus3\", \"bus4\", \"bus5\"];\n",
    "bidding_period = [collect(1:24), [1]];"
   ]
  },
  {
   "cell_type": "markdown",
   "metadata": {},
   "source": [
    "#### Create a DataFrame where each line represents one analysis "
   ]
  },
  {
   "cell_type": "code",
   "execution_count": 12,
   "metadata": {},
   "outputs": [],
   "source": [
    "df = DataFrame(Network = [], \n",
    "               Ramp = [],\n",
    "               Minimal_generation = [],\n",
    "               Reserve = [],\n",
    "               Offer_Bus = [],\n",
    "               bidding_period = []) \n",
    "\n",
    "for a in Network \n",
    "    for b in Ramp \n",
    "        for c in Minimal_generation \n",
    "            for d in Reserve\n",
    "                for e in Offer_Bus\n",
    "                    for f in bidding_period\n",
    "                        new_data = DataFrame(Network = [a], \n",
    "                        Ramp = [b],\n",
    "                        Minimal_generation = [c],\n",
    "                        Reserve = [d],\n",
    "                        Offer_Bus = [e],\n",
    "                        bidding_period = [f])\n",
    "                        append!(df, new_data)\n",
    "                    end\n",
    "                end\n",
    "            end\n",
    "        end\n",
    "    end\n",
    "end"
   ]
  },
  {
   "cell_type": "code",
   "execution_count": 13,
   "metadata": {},
   "outputs": [
    {
     "data": {
      "text/html": [
       "<table class=\"data-frame\"><thead><tr><th></th><th>Network</th><th>Ramp</th><th>Minimal_generation</th><th>Reserve</th><th>Offer_Bus</th><th>bidding_period</th></tr><tr><th></th><th>Any</th><th>Any</th><th>Any</th><th>Any</th><th>Any</th><th>Any</th></tr></thead><tbody><p>10 rows × 6 columns</p><tr><th>1</th><td>DCPPowerModel</td><td>1</td><td>1</td><td>1</td><td>bus1</td><td>[1, 2, 3, 4, 5, 6, 7, 8, 9, 10, 11, 12, 13, 14, 15, 16, 17, 18, 19, 20, 21, 22, 23, 24]</td></tr><tr><th>2</th><td>DCPPowerModel</td><td>1</td><td>1</td><td>1</td><td>bus1</td><td>[1]</td></tr><tr><th>3</th><td>DCPPowerModel</td><td>1</td><td>1</td><td>1</td><td>bus2</td><td>[1, 2, 3, 4, 5, 6, 7, 8, 9, 10, 11, 12, 13, 14, 15, 16, 17, 18, 19, 20, 21, 22, 23, 24]</td></tr><tr><th>4</th><td>DCPPowerModel</td><td>1</td><td>1</td><td>1</td><td>bus2</td><td>[1]</td></tr><tr><th>5</th><td>DCPPowerModel</td><td>1</td><td>1</td><td>1</td><td>bus3</td><td>[1, 2, 3, 4, 5, 6, 7, 8, 9, 10, 11, 12, 13, 14, 15, 16, 17, 18, 19, 20, 21, 22, 23, 24]</td></tr><tr><th>6</th><td>DCPPowerModel</td><td>1</td><td>1</td><td>1</td><td>bus3</td><td>[1]</td></tr><tr><th>7</th><td>DCPPowerModel</td><td>1</td><td>1</td><td>1</td><td>bus4</td><td>[1, 2, 3, 4, 5, 6, 7, 8, 9, 10, 11, 12, 13, 14, 15, 16, 17, 18, 19, 20, 21, 22, 23, 24]</td></tr><tr><th>8</th><td>DCPPowerModel</td><td>1</td><td>1</td><td>1</td><td>bus4</td><td>[1]</td></tr><tr><th>9</th><td>DCPPowerModel</td><td>1</td><td>1</td><td>1</td><td>bus5</td><td>[1, 2, 3, 4, 5, 6, 7, 8, 9, 10, 11, 12, 13, 14, 15, 16, 17, 18, 19, 20, 21, 22, 23, 24]</td></tr><tr><th>10</th><td>DCPPowerModel</td><td>1</td><td>1</td><td>1</td><td>bus5</td><td>[1]</td></tr></tbody></table>"
      ],
      "text/latex": [
       "\\begin{tabular}{r|cccccc}\n",
       "\t& Network & Ramp & Minimal\\_generation & Reserve & Offer\\_Bus & bidding\\_period\\\\\n",
       "\t\\hline\n",
       "\t& Any & Any & Any & Any & Any & Any\\\\\n",
       "\t\\hline\n",
       "\t1 & DCPPowerModel & 1 & 1 & 1 & bus1 & [1, 2, 3, 4, 5, 6, 7, 8, 9, 10  …  15, 16, 17, 18, 19, 20, 21, 22, 23, 24] \\\\\n",
       "\t2 & DCPPowerModel & 1 & 1 & 1 & bus1 & [1] \\\\\n",
       "\t3 & DCPPowerModel & 1 & 1 & 1 & bus2 & [1, 2, 3, 4, 5, 6, 7, 8, 9, 10  …  15, 16, 17, 18, 19, 20, 21, 22, 23, 24] \\\\\n",
       "\t4 & DCPPowerModel & 1 & 1 & 1 & bus2 & [1] \\\\\n",
       "\t5 & DCPPowerModel & 1 & 1 & 1 & bus3 & [1, 2, 3, 4, 5, 6, 7, 8, 9, 10  …  15, 16, 17, 18, 19, 20, 21, 22, 23, 24] \\\\\n",
       "\t6 & DCPPowerModel & 1 & 1 & 1 & bus3 & [1] \\\\\n",
       "\t7 & DCPPowerModel & 1 & 1 & 1 & bus4 & [1, 2, 3, 4, 5, 6, 7, 8, 9, 10  …  15, 16, 17, 18, 19, 20, 21, 22, 23, 24] \\\\\n",
       "\t8 & DCPPowerModel & 1 & 1 & 1 & bus4 & [1] \\\\\n",
       "\t9 & DCPPowerModel & 1 & 1 & 1 & bus5 & [1, 2, 3, 4, 5, 6, 7, 8, 9, 10  …  15, 16, 17, 18, 19, 20, 21, 22, 23, 24] \\\\\n",
       "\t10 & DCPPowerModel & 1 & 1 & 1 & bus5 & [1] \\\\\n",
       "\\end{tabular}\n"
      ],
      "text/plain": [
       "\u001b[1m10×6 DataFrame\u001b[0m\n",
       "\u001b[1m Row \u001b[0m│\u001b[1m Network       \u001b[0m\u001b[1m Ramp \u001b[0m\u001b[1m Minimal_generation \u001b[0m\u001b[1m Reserve \u001b[0m\u001b[1m Offer_Bus \u001b[0m\u001b[1m bidding_pe\u001b[0m ⋯\n",
       "\u001b[1m     \u001b[0m│\u001b[90m Any           \u001b[0m\u001b[90m Any  \u001b[0m\u001b[90m Any                \u001b[0m\u001b[90m Any     \u001b[0m\u001b[90m Any       \u001b[0m\u001b[90m Any       \u001b[0m ⋯\n",
       "─────┼──────────────────────────────────────────────────────────────────────────\n",
       "   1 │ DCPPowerModel  true  true                true     bus1       [1, 2, 3,  ⋯\n",
       "   2 │ DCPPowerModel  true  true                true     bus1       [1]\n",
       "   3 │ DCPPowerModel  true  true                true     bus2       [1, 2, 3,\n",
       "   4 │ DCPPowerModel  true  true                true     bus2       [1]\n",
       "   5 │ DCPPowerModel  true  true                true     bus3       [1, 2, 3,  ⋯\n",
       "   6 │ DCPPowerModel  true  true                true     bus3       [1]\n",
       "   7 │ DCPPowerModel  true  true                true     bus4       [1, 2, 3,\n",
       "   8 │ DCPPowerModel  true  true                true     bus4       [1]\n",
       "   9 │ DCPPowerModel  true  true                true     bus5       [1, 2, 3,  ⋯\n",
       "  10 │ DCPPowerModel  true  true                true     bus5       [1]\n",
       "\u001b[36m                                                                1 column omitted\u001b[0m"
      ]
     },
     "execution_count": 13,
     "metadata": {},
     "output_type": "execute_result"
    }
   ],
   "source": [
    "df"
   ]
  },
  {
   "cell_type": "markdown",
   "metadata": {},
   "source": [
    "#### Define range quota and period to be analysed"
   ]
  },
  {
   "cell_type": "code",
   "execution_count": 14,
   "metadata": {},
   "outputs": [],
   "source": [
    "range_quota = Float64.(collect(0:0.1:4));\n",
    "initial_time = Date(\"2020-01-01\");\n",
    "period_analysed = [5,19];\n",
    "initial_bidding_time = DateTime(\"2020-01-01\");"
   ]
  },
  {
   "cell_type": "markdown",
   "metadata": {},
   "source": [
    "## Run all the simulations"
   ]
  },
  {
   "cell_type": "code",
   "execution_count": null,
   "metadata": {},
   "outputs": [],
   "source": [
    "#TODO: add path to the function (where to save in 5_bus_nrel)\n",
    "#TODO: add ramp and minimal_generation changes to the function"
   ]
  },
  {
   "cell_type": "code",
   "execution_count": null,
   "metadata": {},
   "outputs": [],
   "source": [
    "run_set_of_simulations(df, data_dir, example_dir, solver_uc, solver_ed, solver_rt, range_quota, initial_time, initial_bidding_time)"
   ]
  },
  {
   "cell_type": "markdown",
   "metadata": {},
   "source": [
    "## Market Features effect in PQ Curves: Among a set of market features, which ones most affect the PQ-curve structure?\n",
    "\n",
    "#### Features to be analyzed:\n",
    "\n",
    "1. Choice of Network formulations: CopperPlatePowerModel, NFAPowerModel, and DCPPowerModel;\n",
    "2. Enforcement of Ramp constraints;\n",
    "3. Enforcement of Minimal generation constraints;\n",
    "4. Enforcement of Reserve requirements."
   ]
  },
  {
   "cell_type": "markdown",
   "metadata": {},
   "source": [
    "##### Load the simulation done previously "
   ]
  },
  {
   "cell_type": "code",
   "execution_count": null,
   "metadata": {},
   "outputs": [],
   "source": [
    "lines=[1,3,5,7,9]\n",
    "period_analysed=[[5],[19]] \n"
   ]
  },
  {
   "cell_type": "code",
   "execution_count": null,
   "metadata": {},
   "outputs": [],
   "source": [
    "#TODO: add path to the function (where to load in 5_bus_nrel)"
   ]
  },
  {
   "cell_type": "code",
   "execution_count": null,
   "metadata": {},
   "outputs": [],
   "source": [
    "plt = load_set_of_simulations(df, data_dir, example_dir, solver_uc, solver_ed, solver_rt,\n",
    "        range_quota, initial_time, lines, period_analysed, initial_bidding_time)"
   ]
  }
 ],
 "metadata": {
  "kernelspec": {
   "display_name": "Julia 1.6.1",
   "language": "julia",
   "name": "julia-1.6"
  },
  "language_info": {
   "file_extension": ".jl",
   "mimetype": "application/julia",
   "name": "julia",
   "version": "1.6.1"
  }
 },
 "nbformat": 4,
 "nbformat_minor": 4
}
